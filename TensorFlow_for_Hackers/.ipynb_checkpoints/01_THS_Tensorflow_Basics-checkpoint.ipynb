{
 "cells": [
  {
   "cell_type": "markdown",
   "metadata": {
    "colab_type": "text",
    "id": "YYIx4q07g5Vu"
   },
   "source": [
    "# [TensorFlow Basics — TensorFlow for Hackers (Part I)](https://medium.com/@curiousily/tensorflow-for-hackers-part-i-basics-2c46bc99c930)"
   ]
  },
  {
   "cell_type": "code",
   "execution_count": 1,
   "metadata": {
    "colab": {
     "base_uri": "https://localhost:8080/",
     "height": 127
    },
    "colab_type": "code",
    "executionInfo": {
     "elapsed": 110342,
     "status": "ok",
     "timestamp": 1567676876069,
     "user": {
      "displayName": "shahid-ul-islam bhat",
      "photoUrl": "https://lh3.googleusercontent.com/a-/AAuE7mDUN2wruwnP6Eb0SnHV5ifCNfo1-sL38mFzfnkc7Q=s64",
      "userId": "08911138155923273455"
     },
     "user_tz": -330
    },
    "id": "yNZ4D7ipzrUm",
    "outputId": "b0a019a2-3383-4ac2-a8ad-53bdf7e86838"
   },
   "outputs": [
    {
     "name": "stdout",
     "output_type": "stream",
     "text": [
      "Go to this URL in a browser: https://accounts.google.com/o/oauth2/auth?client_id=947318989803-6bn6qk8qdgf4n4g3pfee6491hc0brc4i.apps.googleusercontent.com&redirect_uri=urn%3Aietf%3Awg%3Aoauth%3A2.0%3Aoob&scope=email%20https%3A%2F%2Fwww.googleapis.com%2Fauth%2Fdocs.test%20https%3A%2F%2Fwww.googleapis.com%2Fauth%2Fdrive%20https%3A%2F%2Fwww.googleapis.com%2Fauth%2Fdrive.photos.readonly%20https%3A%2F%2Fwww.googleapis.com%2Fauth%2Fpeopleapi.readonly&response_type=code\n",
      "\n",
      "Enter your authorization code:\n",
      "··········\n",
      "Mounted at /content/drive\n"
     ]
    }
   ],
   "source": [
    "from google.colab import drive\n",
    "drive.mount('/content/drive')"
   ]
  },
  {
   "cell_type": "code",
   "execution_count": 6,
   "metadata": {
    "colab": {
     "base_uri": "https://localhost:8080/",
     "height": 35
    },
    "colab_type": "code",
    "executionInfo": {
     "elapsed": 870,
     "status": "ok",
     "timestamp": 1567684512255,
     "user": {
      "displayName": "shahid-ul-islam bhat",
      "photoUrl": "https://lh3.googleusercontent.com/a-/AAuE7mDUN2wruwnP6Eb0SnHV5ifCNfo1-sL38mFzfnkc7Q=s64",
      "userId": "08911138155923273455"
     },
     "user_tz": -330
    },
    "id": "Dh9qRout0RWG",
    "outputId": "09eb9ef1-9308-4fa1-c01c-ec39efe50d14"
   },
   "outputs": [
    {
     "data": {
      "text/plain": [
       "'1.14.0'"
      ]
     },
     "execution_count": 6,
     "metadata": {
      "tags": []
     },
     "output_type": "execute_result"
    }
   ],
   "source": [
    "import tensorflow as tf\n",
    "tf.__version__"
   ]
  },
  {
   "cell_type": "code",
   "execution_count": null,
   "metadata": {
    "colab": {},
    "colab_type": "code",
    "id": "B0gR1VcFRCIq"
   },
   "outputs": [],
   "source": [
    "import numpy as np\n",
    "import matplotlib.pyplot as plt\n",
    "%matplotlib inline"
   ]
  },
  {
   "cell_type": "markdown",
   "metadata": {
    "colab_type": "text",
    "id": "lpM2wsYOSoXK"
   },
   "source": [
    "There are some concepts that you must familiarize yourself with:\n",
    "\n",
    "### Variables\n",
    "\n",
    "Variables are pretty standard stuff. You just have to remember one thing — define them before using them in the computational graph.\n",
    "\n",
    "### Placeholders\n",
    "\n",
    "Placeholders are used to feed in data from outside the computational graph. So, if you need to pass data to the model from outside TensorFlow, you have to define a placeholder. Each placeholder must specify a data type. You specify your data using `feed_dict` when running your computation.\n",
    "\n",
    "### Session\n",
    "\n",
    "In order to run any meaningful operation on your graph, you need a Session. In sessions, we trust (not cookies), most of the time. Here is a short example:"
   ]
  },
  {
   "cell_type": "code",
   "execution_count": 14,
   "metadata": {
    "colab": {
     "base_uri": "https://localhost:8080/",
     "height": 35
    },
    "colab_type": "code",
    "executionInfo": {
     "elapsed": 5393,
     "status": "ok",
     "timestamp": 1567685308129,
     "user": {
      "displayName": "shahid-ul-islam bhat",
      "photoUrl": "https://lh3.googleusercontent.com/a-/AAuE7mDUN2wruwnP6Eb0SnHV5ifCNfo1-sL38mFzfnkc7Q=s64",
      "userId": "08911138155923273455"
     },
     "user_tz": -330
    },
    "id": "zKetumKoRHds",
    "outputId": "d96eef48-59a5-44fe-cddf-9b1383b74c48"
   },
   "outputs": [
    {
     "name": "stdout",
     "output_type": "stream",
     "text": [
      "5.0\n"
     ]
    }
   ],
   "source": [
    "v1 = tf.Variable(0.0)\n",
    "p1 = tf.placeholder(tf.float32)\n",
    "new_val = tf.add(v1, p1)\n",
    "update = tf.assign(v1, new_val)\n",
    "\n",
    "with tf.Session() as sess:\n",
    "    sess.run(tf.global_variables_initializer())\n",
    "    for _ in range(5):\n",
    "        sess.run(update, feed_dict={p1: 1.0})\n",
    "    print(sess.run(v1))"
   ]
  },
  {
   "cell_type": "markdown",
   "metadata": {
    "colab_type": "text",
    "id": "jNdFByR1U-1s"
   },
   "source": [
    "## Simple Linear Regression in TensorFlow\n",
    "\n",
    "It is described by the following equation:\n",
    "\n",
    "`Y = aX + b`"
   ]
  },
  {
   "cell_type": "code",
   "execution_count": null,
   "metadata": {
    "colab": {},
    "colab_type": "code",
    "id": "ouJhMFDPTtVK"
   },
   "outputs": [],
   "source": [
    "X = np.random.rand(100).astype(np.float32)\n",
    "\n",
    "a = 50\n",
    "b = 40\n",
    "Y = a * X + b"
   ]
  },
  {
   "cell_type": "code",
   "execution_count": 16,
   "metadata": {
    "colab": {
     "base_uri": "https://localhost:8080/",
     "height": 269
    },
    "colab_type": "code",
    "executionInfo": {
     "elapsed": 930,
     "status": "ok",
     "timestamp": 1567685409747,
     "user": {
      "displayName": "shahid-ul-islam bhat",
      "photoUrl": "https://lh3.googleusercontent.com/a-/AAuE7mDUN2wruwnP6Eb0SnHV5ifCNfo1-sL38mFzfnkc7Q=s64",
      "userId": "08911138155923273455"
     },
     "user_tz": -330
    },
    "id": "GfCX160EVMkk",
    "outputId": "207eab0b-fd7e-4d60-aeaf-00a0d5d80c14"
   },
   "outputs": [
    {
     "data": {
      "image/png": "[encoded data removed]",
      "text/plain": [
       "<Figure size 432x288 with 1 Axes>"
      ]
     },
     "metadata": {
      "tags": []
     },
     "output_type": "display_data"
    }
   ],
   "source": [
    "plt.plot(X, Y);"
   ]
  },
  {
   "cell_type": "markdown",
   "metadata": {
    "colab_type": "text",
    "id": "F86viMYzVUGW"
   },
   "source": [
    "Let’s make things a tiny bit more interesting by adding a bit of noise to our dependent variable."
   ]
  },
  {
   "cell_type": "code",
   "execution_count": 29,
   "metadata": {
    "colab": {
     "base_uri": "https://localhost:8080/",
     "height": 377
    },
    "colab_type": "code",
    "executionInfo": {
     "elapsed": 1106,
     "status": "ok",
     "timestamp": 1567685742047,
     "user": {
      "displayName": "shahid-ul-islam bhat",
      "photoUrl": "https://lh3.googleusercontent.com/a-/AAuE7mDUN2wruwnP6Eb0SnHV5ifCNfo1-sL38mFzfnkc7Q=s64",
      "userId": "08911138155923273455"
     },
     "user_tz": -330
    },
    "id": "Ne151VieVPeg",
    "outputId": "1196b8fe-8217-41d9-d5be-4c12e58409dc"
   },
   "outputs": [
    {
     "data": {
      "text/plain": [
       "array([49.6684659 , 53.44883545, 74.70081663, 73.04833273, 60.9010571 ,\n",
       "       73.035354  , 60.12946545, 71.50030174, 59.64383038, 52.23863352,\n",
       "       72.83074231, 74.56953319, 83.235366  , 61.85881278, 62.60481074,\n",
       "       87.95210525, 53.6639167 , 71.03678506, 72.32647089, 89.52371714,\n",
       "       50.59163297, 47.736721  , 82.24428036, 63.18693214, 86.04838255,\n",
       "       80.35874319, 53.78967708, 89.36484559, 86.3656305 , 53.485688  ,\n",
       "       43.6700302 , 76.7972864 , 61.54438182, 87.35328692, 70.9887659 ,\n",
       "       40.41112494, 49.49809872, 79.79228873, 74.58153428, 57.45713498,\n",
       "       40.16526912, 88.59077831, 83.52422399, 76.300504  , 81.16860704,\n",
       "       85.94273144, 81.29896683, 67.04963291, 64.29702653, 72.08276581,\n",
       "       57.32011642, 62.29644602, 41.28906722, 60.01245413, 52.10951301,\n",
       "       72.50830477, 56.37118699, 75.50219029, 41.97223394, 71.15881321,\n",
       "       57.28198836, 63.83263803, 66.33207574, 51.27339031, 63.38892642,\n",
       "       84.07364897, 50.56122234, 82.37935698, 48.18929109, 75.39380157,\n",
       "       41.26463117, 62.51308231, 84.55555446, 80.58491392, 64.45913736,\n",
       "       86.41223069, 57.4432876 , 55.30594339, 60.03049342, 79.36760024,\n",
       "       70.30545359, 52.29300334, 46.65993845, 84.37300431, 68.86333329,\n",
       "       65.78083358, 84.10009491, 41.80938762, 82.6248168 , 56.27985179,\n",
       "       84.91440494, 69.79559533, 64.5886871 , 86.80207532, 83.21527594,\n",
       "       43.08937951, 61.06898855, 68.32881052, 52.78277398, 86.82032562])"
      ]
     },
     "execution_count": 29,
     "metadata": {
      "tags": []
     },
     "output_type": "execute_result"
    }
   ],
   "source": [
    "Y2 = np.vectorize(lambda y: y+np.random.normal(loc=0.0, scale=0.5)) (Y)\n",
    "Y"
   ]
  },
  {
   "cell_type": "code",
   "execution_count": 30,
   "metadata": {
    "colab": {
     "base_uri": "https://localhost:8080/",
     "height": 377
    },
    "colab_type": "code",
    "executionInfo": {
     "elapsed": 1129,
     "status": "ok",
     "timestamp": 1567685745061,
     "user": {
      "displayName": "shahid-ul-islam bhat",
      "photoUrl": "https://lh3.googleusercontent.com/a-/AAuE7mDUN2wruwnP6Eb0SnHV5ifCNfo1-sL38mFzfnkc7Q=s64",
      "userId": "08911138155923273455"
     },
     "user_tz": -330
    },
    "id": "yVGks3UrWEmu",
    "outputId": "afc422b5-61a7-460f-b708-7273ecd2c9a1"
   },
   "outputs": [
    {
     "data": {
      "text/plain": [
       "array([49.26821431, 53.33272142, 74.46696359, 73.28353742, 60.19255497,\n",
       "       74.28126296, 59.77034117, 72.06783244, 60.05684382, 52.79676651,\n",
       "       73.57811898, 75.21724533, 83.63696618, 61.77617438, 62.53173474,\n",
       "       87.48109669, 53.71346004, 71.44175134, 72.00196168, 89.98035845,\n",
       "       49.92701007, 47.73410958, 81.64661716, 63.31746267, 86.15758955,\n",
       "       80.26517965, 53.83235726, 89.28446141, 86.31607858, 53.59411086,\n",
       "       44.01508826, 76.4858211 , 60.84130971, 86.7882202 , 70.87206941,\n",
       "       40.1715806 , 49.45416561, 79.19813324, 74.34496343, 58.04736188,\n",
       "       40.86135879, 88.07849127, 82.80966006, 76.94817458, 81.26188862,\n",
       "       86.48381406, 80.77787143, 66.63955115, 63.97360801, 71.93315871,\n",
       "       57.2587537 , 62.59427153, 40.81237705, 60.80528781, 52.41426874,\n",
       "       73.33529504, 57.15856361, 76.06768293, 42.01924289, 71.32689762,\n",
       "       57.191543  , 62.91157151, 66.55351072, 51.37335423, 63.67464992,\n",
       "       83.94676443, 50.64363823, 82.77369351, 48.22804747, 75.54318589,\n",
       "       41.1060455 , 62.12065966, 84.81716212, 80.91719232, 64.13766318,\n",
       "       86.74290435, 57.59732535, 54.60593314, 59.74354855, 79.11538703,\n",
       "       70.50529617, 52.98997107, 47.94298103, 84.48473677, 69.63402574,\n",
       "       65.0859257 , 84.13937929, 43.10495656, 82.87004021, 55.96268847,\n",
       "       85.44591737, 69.38756647, 64.05954266, 87.1348068 , 83.2761318 ,\n",
       "       43.62089759, 61.0625829 , 69.19529727, 53.79969861, 86.56985075])"
      ]
     },
     "execution_count": 30,
     "metadata": {
      "tags": []
     },
     "output_type": "execute_result"
    }
   ],
   "source": [
    "Y2"
   ]
  },
  {
   "cell_type": "code",
   "execution_count": 31,
   "metadata": {
    "colab": {
     "base_uri": "https://localhost:8080/",
     "height": 287
    },
    "colab_type": "code",
    "executionInfo": {
     "elapsed": 1172,
     "status": "ok",
     "timestamp": 1567685747554,
     "user": {
      "displayName": "shahid-ul-islam bhat",
      "photoUrl": "https://lh3.googleusercontent.com/a-/AAuE7mDUN2wruwnP6Eb0SnHV5ifCNfo1-sL38mFzfnkc7Q=s64",
      "userId": "08911138155923273455"
     },
     "user_tz": -330
    },
    "id": "7DhmdULWV239",
    "outputId": "bae9556e-23f0-4f8c-8d1a-740ca80b32af"
   },
   "outputs": [
    {
     "data": {
      "text/plain": [
       "[<matplotlib.lines.Line2D at 0x7fa1000e4208>]"
      ]
     },
     "execution_count": 31,
     "metadata": {
      "tags": []
     },
     "output_type": "execute_result"
    },
    {
     "data": {
      "image/png": "[encoded data removed]",
      "text/plain": [
       "<Figure size 432x288 with 1 Axes>"
      ]
     },
     "metadata": {
      "tags": []
     },
     "output_type": "display_data"
    }
   ],
   "source": [
    "plt.plot(X, Y);\n",
    "plt.plot(X, Y2)"
   ]
  },
  {
   "cell_type": "code",
   "execution_count": null,
   "metadata": {
    "colab": {},
    "colab_type": "code",
    "id": "ay9kL-wXV9Bv"
   },
   "outputs": [],
   "source": [
    "a_var = tf.Variable(1.0)\n",
    "b_var = tf.Variable(1.0)\n",
    "y_var = a_var * X + b_var"
   ]
  },
  {
   "cell_type": "markdown",
   "metadata": {
    "colab_type": "text",
    "id": "p-tBnSbYWyjM"
   },
   "source": [
    "Our task will be to minimize the mean squared error or in TensorFlow parlance — reduce the mean."
   ]
  },
  {
   "cell_type": "code",
   "execution_count": null,
   "metadata": {
    "colab": {},
    "colab_type": "code",
    "id": "nIdipt7eWuBh"
   },
   "outputs": [],
   "source": [
    "loss = tf.reduce_mean(tf.square(y_var - Y2))"
   ]
  },
  {
   "cell_type": "markdown",
   "metadata": {
    "colab_type": "text",
    "id": "MYVT0IpkW8_e"
   },
   "source": [
    "So, let’s try to minimize it using gradient descent."
   ]
  },
  {
   "cell_type": "code",
   "execution_count": null,
   "metadata": {
    "colab": {},
    "colab_type": "code",
    "id": "p1oAuzyEW5FM"
   },
   "outputs": [],
   "source": [
    "optimizer = tf.train.GradientDescentOptimizer(0.5)\n",
    "train = optimizer.minimize(loss)"
   ]
  },
  {
   "cell_type": "markdown",
   "metadata": {
    "colab_type": "text",
    "id": "a5cRDVz-XEKM"
   },
   "source": [
    "Let’s use our optimizer for 300 steps of learning"
   ]
  },
  {
   "cell_type": "code",
   "execution_count": null,
   "metadata": {
    "colab": {},
    "colab_type": "code",
    "id": "53efTcZtW_zW"
   },
   "outputs": [],
   "source": [
    "TRAINING_STEPS = 300\n",
    "results = []\n",
    "with tf.Session() as sess:\n",
    "    sess.run(tf.global_variables_initializer())\n",
    "    for step in range(TRAINING_STEPS):\n",
    "        results.append(sess.run([train, a_var, b_var])[1:])"
   ]
  },
  {
   "cell_type": "markdown",
   "metadata": {
    "colab_type": "text",
    "id": "sEBHW27SXNmi"
   },
   "source": [
    "Let’s get the final and best predictions for a and b"
   ]
  },
  {
   "cell_type": "code",
   "execution_count": 36,
   "metadata": {
    "colab": {
     "base_uri": "https://localhost:8080/",
     "height": 35
    },
    "colab_type": "code",
    "executionInfo": {
     "elapsed": 967,
     "status": "ok",
     "timestamp": 1567685934586,
     "user": {
      "displayName": "shahid-ul-islam bhat",
      "photoUrl": "https://lh3.googleusercontent.com/a-/AAuE7mDUN2wruwnP6Eb0SnHV5ifCNfo1-sL38mFzfnkc7Q=s64",
      "userId": "08911138155923273455"
     },
     "user_tz": -330
    },
    "id": "AGUvZT-dXLAF",
    "outputId": "b8ee7f45-9fba-48d2-b09d-9bfb0ea1458d"
   },
   "outputs": [
    {
     "name": "stdout",
     "output_type": "stream",
     "text": [
      "a: 49.80549 b: 40.177753\n"
     ]
    }
   ],
   "source": [
    "final_pred = results[-1]\n",
    "a_hat = final_pred[0]\n",
    "b_hat = final_pred[1]\n",
    "y_hat = a_hat * X + b_hat\n",
    "\n",
    "print(\"a:\", a_hat, \"b:\", b_hat)"
   ]
  },
  {
   "cell_type": "code",
   "execution_count": 39,
   "metadata": {
    "colab": {
     "base_uri": "https://localhost:8080/",
     "height": 269
    },
    "colab_type": "code",
    "executionInfo": {
     "elapsed": 1782,
     "status": "ok",
     "timestamp": 1567685967750,
     "user": {
      "displayName": "shahid-ul-islam bhat",
      "photoUrl": "https://lh3.googleusercontent.com/a-/AAuE7mDUN2wruwnP6Eb0SnHV5ifCNfo1-sL38mFzfnkc7Q=s64",
      "userId": "08911138155923273455"
     },
     "user_tz": -330
    },
    "id": "6_PwotDJXPmU",
    "outputId": "5a9259d7-04be-4c8f-803b-0ffce53e16c7"
   },
   "outputs": [
    {
     "data": {
      "image/png": "[encoded data removed]",
      "text/plain": [
       "<Figure size 432x288 with 1 Axes>"
      ]
     },
     "metadata": {
      "tags": []
     },
     "output_type": "display_data"
    }
   ],
   "source": [
    "plt.plot(X, Y);\n",
    "plt.plot(X, y_hat);"
   ]
  },
  {
   "cell_type": "code",
   "execution_count": null,
   "metadata": {
    "colab": {},
    "colab_type": "code",
    "id": "DF4ZAYQmXT3m"
   },
   "outputs": [],
   "source": []
  }
 ],
 "metadata": {
  "accelerator": "GPU",
  "colab": {
   "name": "01_THS_Tensorflow_Basics.ipynb",
   "provenance": [],
   "version": "0.3.2"
  },
  "kernelspec": {
   "display_name": "Python 3",
   "language": "python",
   "name": "python3"
  },
  "language_info": {
   "codemirror_mode": {
    "name": "ipython",
    "version": 3
   },
   "file_extension": ".py",
   "mimetype": "text/x-python",
   "name": "python",
   "nbconvert_exporter": "python",
   "pygments_lexer": "ipython3",
   "version": "3.7.4"
  }
 },
 "nbformat": 4,
 "nbformat_minor": 2
}
